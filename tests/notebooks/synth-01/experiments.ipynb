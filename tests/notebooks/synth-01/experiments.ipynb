{
 "cells": [
  {
   "cell_type": "code",
   "execution_count": 37,
   "metadata": {},
   "outputs": [],
   "source": [
    "!pip install -q xarray zarr \n",
    "import xarray as xr\n",
    "import numpy as np\n",
    "import pandas as pd\n",
    "import statsmodels.api as sm"
   ]
  },
  {
   "cell_type": "code",
   "execution_count": 2,
   "metadata": {},
   "outputs": [
    {
     "data": {
      "text/html": [
       "<div><svg style=\"position: absolute; width: 0; height: 0; overflow: hidden\">\n",
       "<defs>\n",
       "<symbol id=\"icon-database\" viewBox=\"0 0 32 32\">\n",
       "<title>Show/Hide data repr</title>\n",
       "<path d=\"M16 0c-8.837 0-16 2.239-16 5v4c0 2.761 7.163 5 16 5s16-2.239 16-5v-4c0-2.761-7.163-5-16-5z\"></path>\n",
       "<path d=\"M16 17c-8.837 0-16-2.239-16-5v6c0 2.761 7.163 5 16 5s16-2.239 16-5v-6c0 2.761-7.163 5-16 5z\"></path>\n",
       "<path d=\"M16 26c-8.837 0-16-2.239-16-5v6c0 2.761 7.163 5 16 5s16-2.239 16-5v-6c0 2.761-7.163 5-16 5z\"></path>\n",
       "</symbol>\n",
       "<symbol id=\"icon-file-text2\" viewBox=\"0 0 32 32\">\n",
       "<title>Show/Hide attributes</title>\n",
       "<path d=\"M28.681 7.159c-0.694-0.947-1.662-2.053-2.724-3.116s-2.169-2.030-3.116-2.724c-1.612-1.182-2.393-1.319-2.841-1.319h-15.5c-1.378 0-2.5 1.121-2.5 2.5v27c0 1.378 1.122 2.5 2.5 2.5h23c1.378 0 2.5-1.122 2.5-2.5v-19.5c0-0.448-0.137-1.23-1.319-2.841zM24.543 5.457c0.959 0.959 1.712 1.825 2.268 2.543h-4.811v-4.811c0.718 0.556 1.584 1.309 2.543 2.268zM28 29.5c0 0.271-0.229 0.5-0.5 0.5h-23c-0.271 0-0.5-0.229-0.5-0.5v-27c0-0.271 0.229-0.5 0.5-0.5 0 0 15.499-0 15.5 0v7c0 0.552 0.448 1 1 1h7v19.5z\"></path>\n",
       "<path d=\"M23 26h-14c-0.552 0-1-0.448-1-1s0.448-1 1-1h14c0.552 0 1 0.448 1 1s-0.448 1-1 1z\"></path>\n",
       "<path d=\"M23 22h-14c-0.552 0-1-0.448-1-1s0.448-1 1-1h14c0.552 0 1 0.448 1 1s-0.448 1-1 1z\"></path>\n",
       "<path d=\"M23 18h-14c-0.552 0-1-0.448-1-1s0.448-1 1-1h14c0.552 0 1 0.448 1 1s-0.448 1-1 1z\"></path>\n",
       "</symbol>\n",
       "</defs>\n",
       "</svg>\n",
       "<style>/* CSS stylesheet for displaying xarray objects in jupyterlab.\n",
       " *\n",
       " */\n",
       "\n",
       ":root {\n",
       "  --xr-font-color0: var(--jp-content-font-color0, rgba(0, 0, 0, 1));\n",
       "  --xr-font-color2: var(--jp-content-font-color2, rgba(0, 0, 0, 0.54));\n",
       "  --xr-font-color3: var(--jp-content-font-color3, rgba(0, 0, 0, 0.38));\n",
       "  --xr-border-color: var(--jp-border-color2, #e0e0e0);\n",
       "  --xr-disabled-color: var(--jp-layout-color3, #bdbdbd);\n",
       "  --xr-background-color: var(--jp-layout-color0, white);\n",
       "  --xr-background-color-row-even: var(--jp-layout-color1, white);\n",
       "  --xr-background-color-row-odd: var(--jp-layout-color2, #eeeeee);\n",
       "}\n",
       "\n",
       ".xr-wrap {\n",
       "  min-width: 300px;\n",
       "  max-width: 700px;\n",
       "}\n",
       "\n",
       ".xr-header {\n",
       "  padding-top: 6px;\n",
       "  padding-bottom: 6px;\n",
       "  margin-bottom: 4px;\n",
       "  border-bottom: solid 1px var(--xr-border-color);\n",
       "}\n",
       "\n",
       ".xr-header > div,\n",
       ".xr-header > ul {\n",
       "  display: inline;\n",
       "  margin-top: 0;\n",
       "  margin-bottom: 0;\n",
       "}\n",
       "\n",
       ".xr-obj-type,\n",
       ".xr-array-name {\n",
       "  margin-left: 2px;\n",
       "  margin-right: 10px;\n",
       "}\n",
       "\n",
       ".xr-obj-type {\n",
       "  color: var(--xr-font-color2);\n",
       "}\n",
       "\n",
       ".xr-sections {\n",
       "  padding-left: 0 !important;\n",
       "  display: grid;\n",
       "  grid-template-columns: 150px auto auto 1fr 20px 20px;\n",
       "}\n",
       "\n",
       ".xr-section-item {\n",
       "  display: contents;\n",
       "}\n",
       "\n",
       ".xr-section-item input {\n",
       "  display: none;\n",
       "}\n",
       "\n",
       ".xr-section-item input + label {\n",
       "  color: var(--xr-disabled-color);\n",
       "}\n",
       "\n",
       ".xr-section-item input:enabled + label {\n",
       "  cursor: pointer;\n",
       "  color: var(--xr-font-color2);\n",
       "}\n",
       "\n",
       ".xr-section-item input:enabled + label:hover {\n",
       "  color: var(--xr-font-color0);\n",
       "}\n",
       "\n",
       ".xr-section-summary {\n",
       "  grid-column: 1;\n",
       "  color: var(--xr-font-color2);\n",
       "  font-weight: 500;\n",
       "}\n",
       "\n",
       ".xr-section-summary > span {\n",
       "  display: inline-block;\n",
       "  padding-left: 0.5em;\n",
       "}\n",
       "\n",
       ".xr-section-summary-in:disabled + label {\n",
       "  color: var(--xr-font-color2);\n",
       "}\n",
       "\n",
       ".xr-section-summary-in + label:before {\n",
       "  display: inline-block;\n",
       "  content: '►';\n",
       "  font-size: 11px;\n",
       "  width: 15px;\n",
       "  text-align: center;\n",
       "}\n",
       "\n",
       ".xr-section-summary-in:disabled + label:before {\n",
       "  color: var(--xr-disabled-color);\n",
       "}\n",
       "\n",
       ".xr-section-summary-in:checked + label:before {\n",
       "  content: '▼';\n",
       "}\n",
       "\n",
       ".xr-section-summary-in:checked + label > span {\n",
       "  display: none;\n",
       "}\n",
       "\n",
       ".xr-section-summary,\n",
       ".xr-section-inline-details {\n",
       "  padding-top: 4px;\n",
       "  padding-bottom: 4px;\n",
       "}\n",
       "\n",
       ".xr-section-inline-details {\n",
       "  grid-column: 2 / -1;\n",
       "}\n",
       "\n",
       ".xr-section-details {\n",
       "  display: none;\n",
       "  grid-column: 1 / -1;\n",
       "  margin-bottom: 5px;\n",
       "}\n",
       "\n",
       ".xr-section-summary-in:checked ~ .xr-section-details {\n",
       "  display: contents;\n",
       "}\n",
       "\n",
       ".xr-array-wrap {\n",
       "  grid-column: 1 / -1;\n",
       "  display: grid;\n",
       "  grid-template-columns: 20px auto;\n",
       "}\n",
       "\n",
       ".xr-array-wrap > label {\n",
       "  grid-column: 1;\n",
       "  vertical-align: top;\n",
       "}\n",
       "\n",
       ".xr-preview {\n",
       "  color: var(--xr-font-color3);\n",
       "}\n",
       "\n",
       ".xr-array-preview,\n",
       ".xr-array-data {\n",
       "  padding: 0 5px !important;\n",
       "  grid-column: 2;\n",
       "}\n",
       "\n",
       ".xr-array-data,\n",
       ".xr-array-in:checked ~ .xr-array-preview {\n",
       "  display: none;\n",
       "}\n",
       "\n",
       ".xr-array-in:checked ~ .xr-array-data,\n",
       ".xr-array-preview {\n",
       "  display: inline-block;\n",
       "}\n",
       "\n",
       ".xr-dim-list {\n",
       "  display: inline-block !important;\n",
       "  list-style: none;\n",
       "  padding: 0 !important;\n",
       "  margin: 0;\n",
       "}\n",
       "\n",
       ".xr-dim-list li {\n",
       "  display: inline-block;\n",
       "  padding: 0;\n",
       "  margin: 0;\n",
       "}\n",
       "\n",
       ".xr-dim-list:before {\n",
       "  content: '(';\n",
       "}\n",
       "\n",
       ".xr-dim-list:after {\n",
       "  content: ')';\n",
       "}\n",
       "\n",
       ".xr-dim-list li:not(:last-child):after {\n",
       "  content: ',';\n",
       "  padding-right: 5px;\n",
       "}\n",
       "\n",
       ".xr-has-index {\n",
       "  font-weight: bold;\n",
       "}\n",
       "\n",
       ".xr-var-list,\n",
       ".xr-var-item {\n",
       "  display: contents;\n",
       "}\n",
       "\n",
       ".xr-var-item > div,\n",
       ".xr-var-item label,\n",
       ".xr-var-item > .xr-var-name span {\n",
       "  background-color: var(--xr-background-color-row-even);\n",
       "  margin-bottom: 0;\n",
       "}\n",
       "\n",
       ".xr-var-item > .xr-var-name:hover span {\n",
       "  padding-right: 5px;\n",
       "}\n",
       "\n",
       ".xr-var-list > li:nth-child(odd) > div,\n",
       ".xr-var-list > li:nth-child(odd) > label,\n",
       ".xr-var-list > li:nth-child(odd) > .xr-var-name span {\n",
       "  background-color: var(--xr-background-color-row-odd);\n",
       "}\n",
       "\n",
       ".xr-var-name {\n",
       "  grid-column: 1;\n",
       "}\n",
       "\n",
       ".xr-var-dims {\n",
       "  grid-column: 2;\n",
       "}\n",
       "\n",
       ".xr-var-dtype {\n",
       "  grid-column: 3;\n",
       "  text-align: right;\n",
       "  color: var(--xr-font-color2);\n",
       "}\n",
       "\n",
       ".xr-var-preview {\n",
       "  grid-column: 4;\n",
       "}\n",
       "\n",
       ".xr-var-name,\n",
       ".xr-var-dims,\n",
       ".xr-var-dtype,\n",
       ".xr-preview,\n",
       ".xr-attrs dt {\n",
       "  white-space: nowrap;\n",
       "  overflow: hidden;\n",
       "  text-overflow: ellipsis;\n",
       "  padding-right: 10px;\n",
       "}\n",
       "\n",
       ".xr-var-name:hover,\n",
       ".xr-var-dims:hover,\n",
       ".xr-var-dtype:hover,\n",
       ".xr-attrs dt:hover {\n",
       "  overflow: visible;\n",
       "  width: auto;\n",
       "  z-index: 1;\n",
       "}\n",
       "\n",
       ".xr-var-attrs,\n",
       ".xr-var-data {\n",
       "  display: none;\n",
       "  background-color: var(--xr-background-color) !important;\n",
       "  padding-bottom: 5px !important;\n",
       "}\n",
       "\n",
       ".xr-var-attrs-in:checked ~ .xr-var-attrs,\n",
       ".xr-var-data-in:checked ~ .xr-var-data {\n",
       "  display: block;\n",
       "}\n",
       "\n",
       ".xr-var-data > table {\n",
       "  float: right;\n",
       "}\n",
       "\n",
       ".xr-var-name span,\n",
       ".xr-var-data,\n",
       ".xr-attrs {\n",
       "  padding-left: 25px !important;\n",
       "}\n",
       "\n",
       ".xr-attrs,\n",
       ".xr-var-attrs,\n",
       ".xr-var-data {\n",
       "  grid-column: 1 / -1;\n",
       "}\n",
       "\n",
       "dl.xr-attrs {\n",
       "  padding: 0;\n",
       "  margin: 0;\n",
       "  display: grid;\n",
       "  grid-template-columns: 125px auto;\n",
       "}\n",
       "\n",
       ".xr-attrs dt, dd {\n",
       "  padding: 0;\n",
       "  margin: 0;\n",
       "  float: left;\n",
       "  padding-right: 10px;\n",
       "  width: auto;\n",
       "}\n",
       "\n",
       ".xr-attrs dt {\n",
       "  font-weight: normal;\n",
       "  grid-column: 1;\n",
       "}\n",
       "\n",
       ".xr-attrs dt:hover span {\n",
       "  display: inline-block;\n",
       "  background: var(--xr-background-color);\n",
       "  padding-right: 10px;\n",
       "}\n",
       "\n",
       ".xr-attrs dd {\n",
       "  grid-column: 2;\n",
       "  white-space: pre-wrap;\n",
       "  word-break: break-all;\n",
       "}\n",
       "\n",
       ".xr-icon-database,\n",
       ".xr-icon-file-text2 {\n",
       "  display: inline-block;\n",
       "  vertical-align: middle;\n",
       "  width: 1em;\n",
       "  height: 1.5em !important;\n",
       "  stroke-width: 0;\n",
       "  stroke: currentColor;\n",
       "  fill: currentColor;\n",
       "}\n",
       "</style><div class='xr-wrap'><div class='xr-header'><div class='xr-obj-type'>xarray.Dataset</div></div><ul class='xr-sections'><li class='xr-section-item'><input id='section-bbb76ba6-07f9-468c-a17b-b08c5b616413' class='xr-section-summary-in' type='checkbox' disabled ><label for='section-bbb76ba6-07f9-468c-a17b-b08c5b616413' class='xr-section-summary'  title='Expand/collapse section'>Dimensions:</label><div class='xr-section-inline-details'><ul class='xr-dim-list'><li><span>sample</span>: 500</li><li><span>variant</span>: 5000</li></ul></div><div class='xr-section-details'></div></li><li class='xr-section-item'><input id='section-a68d40d1-6a31-4943-b143-36a3fca234ab' class='xr-section-summary-in' type='checkbox' disabled ><label for='section-a68d40d1-6a31-4943-b143-36a3fca234ab' class='xr-section-summary'  title='Expand/collapse section'>Coordinates: <span>(0)</span></label><div class='xr-section-inline-details'></div><div class='xr-section-details'><ul class='xr-var-list'></ul></div></li><li class='xr-section-item'><input id='section-0663b7de-b6f4-4906-8010-3a2bdccdc4e5' class='xr-section-summary-in' type='checkbox'  checked><label for='section-0663b7de-b6f4-4906-8010-3a2bdccdc4e5' class='xr-section-summary' >Data variables: <span>(7)</span></label><div class='xr-section-inline-details'></div><div class='xr-section-details'><ul class='xr-var-list'><li class='xr-var-item'><div class='xr-var-name'><span>data</span></div><div class='xr-var-dims'>(variant, sample)</div><div class='xr-var-dtype'>int8</div><div class='xr-var-preview xr-preview'>...</div><input id='attrs-812e5041-e461-413b-8772-15a2cc0f33ef' class='xr-var-attrs-in' type='checkbox' disabled><label for='attrs-812e5041-e461-413b-8772-15a2cc0f33ef' title='Show/Hide attributes'><svg class='icon xr-icon-file-text2'><use xlink:href='#icon-file-text2'></use></svg></label><input id='data-fc8dcc60-1521-4811-a38c-28224fd7c190' class='xr-var-data-in' type='checkbox'><label for='data-fc8dcc60-1521-4811-a38c-28224fd7c190' title='Show/Hide data repr'><svg class='icon xr-icon-database'><use xlink:href='#icon-database'></use></svg></label><div class='xr-var-attrs'><dl class='xr-attrs'></dl></div><pre class='xr-var-data'>[2500000 values with dtype=int8]</pre></li><li class='xr-var-item'><div class='xr-var-name'><span>variant_id</span></div><div class='xr-var-dims'>(variant)</div><div class='xr-var-dtype'>object</div><div class='xr-var-preview xr-preview'>...</div><input id='attrs-d779684c-e9a2-48b8-a882-b00e398bed92' class='xr-var-attrs-in' type='checkbox' disabled><label for='attrs-d779684c-e9a2-48b8-a882-b00e398bed92' title='Show/Hide attributes'><svg class='icon xr-icon-file-text2'><use xlink:href='#icon-file-text2'></use></svg></label><input id='data-144d89f9-9ade-4a78-abcb-1df9b3b7ebab' class='xr-var-data-in' type='checkbox'><label for='data-144d89f9-9ade-4a78-abcb-1df9b3b7ebab' title='Show/Hide data repr'><svg class='icon xr-icon-database'><use xlink:href='#icon-database'></use></svg></label><div class='xr-var-attrs'><dl class='xr-attrs'></dl></div><pre class='xr-var-data'>array([&#x27;snp625_m0_.03m1_.07&#x27;, &#x27;snp1750_m0_.02m1_.04&#x27;, &#x27;snp0_m0_.37m1_.24&#x27;, ...,\n",
       "       &#x27;snp122_m0_.26m1_.34&#x27;, &#x27;snp123_m0_.41m1_.47&#x27;, &#x27;snp124_m0_.23m1_.08&#x27;],\n",
       "      dtype=object)</pre></li><li class='xr-var-item'><div class='xr-var-name'><span>contig</span></div><div class='xr-var-dims'>(variant)</div><div class='xr-var-dtype'>int32</div><div class='xr-var-preview xr-preview'>...</div><input id='attrs-70b3c90f-9f02-4985-8284-5a7ffd303e9e' class='xr-var-attrs-in' type='checkbox' disabled><label for='attrs-70b3c90f-9f02-4985-8284-5a7ffd303e9e' title='Show/Hide attributes'><svg class='icon xr-icon-file-text2'><use xlink:href='#icon-file-text2'></use></svg></label><input id='data-bbab9fbd-dbff-4152-ba80-e179c207c66f' class='xr-var-data-in' type='checkbox'><label for='data-bbab9fbd-dbff-4152-ba80-e179c207c66f' title='Show/Hide data repr'><svg class='icon xr-icon-database'><use xlink:href='#icon-database'></use></svg></label><div class='xr-var-attrs'><dl class='xr-attrs'></dl></div><pre class='xr-var-data'>array([1, 1, 1, ..., 5, 5, 5], dtype=int32)</pre></li><li class='xr-var-item'><div class='xr-var-name'><span>pos</span></div><div class='xr-var-dims'>(variant)</div><div class='xr-var-dtype'>int32</div><div class='xr-var-preview xr-preview'>...</div><input id='attrs-331870f9-cb42-47ca-9cd7-5e785f2dc290' class='xr-var-attrs-in' type='checkbox' disabled><label for='attrs-331870f9-cb42-47ca-9cd7-5e785f2dc290' title='Show/Hide attributes'><svg class='icon xr-icon-file-text2'><use xlink:href='#icon-file-text2'></use></svg></label><input id='data-d7097f28-ab74-46e2-988c-a39dc35d0bbb' class='xr-var-data-in' type='checkbox'><label for='data-d7097f28-ab74-46e2-988c-a39dc35d0bbb' title='Show/Hide data repr'><svg class='icon xr-icon-database'><use xlink:href='#icon-database'></use></svg></label><div class='xr-var-attrs'><dl class='xr-attrs'></dl></div><pre class='xr-var-data'>array([   0,    1,    2, ..., 4997, 4998, 4999], dtype=int32)</pre></li><li class='xr-var-item'><div class='xr-var-name'><span>sample_id</span></div><div class='xr-var-dims'>(sample)</div><div class='xr-var-dtype'>object</div><div class='xr-var-preview xr-preview'>...</div><input id='attrs-e76f2c2a-373e-4d89-985d-245c8e845a47' class='xr-var-attrs-in' type='checkbox' disabled><label for='attrs-e76f2c2a-373e-4d89-985d-245c8e845a47' title='Show/Hide attributes'><svg class='icon xr-icon-file-text2'><use xlink:href='#icon-file-text2'></use></svg></label><input id='data-49f2dc4a-c1a1-455d-aea0-f7300ca581c1' class='xr-var-data-in' type='checkbox'><label for='data-49f2dc4a-c1a1-455d-aea0-f7300ca581c1' title='Show/Hide data repr'><svg class='icon xr-icon-database'><use xlink:href='#icon-database'></use></svg></label><div class='xr-var-attrs'><dl class='xr-attrs'></dl></div><pre class='xr-var-data'>array([&#x27;cid0P0&#x27;, &#x27;cid1P0&#x27;, &#x27;cid2P0&#x27;, ..., &#x27;cid497P1&#x27;, &#x27;cid498P1&#x27;, &#x27;cid499P1&#x27;],\n",
       "      dtype=object)</pre></li><li class='xr-var-item'><div class='xr-var-name'><span>covariate_0</span></div><div class='xr-var-dims'>(sample)</div><div class='xr-var-dtype'>float64</div><div class='xr-var-preview xr-preview'>...</div><input id='attrs-4f122cae-28b3-4f76-80ad-9dbc0b7357ba' class='xr-var-attrs-in' type='checkbox' disabled><label for='attrs-4f122cae-28b3-4f76-80ad-9dbc0b7357ba' title='Show/Hide attributes'><svg class='icon xr-icon-file-text2'><use xlink:href='#icon-file-text2'></use></svg></label><input id='data-5bd91471-c7cc-4254-8f9b-afe0a472a051' class='xr-var-data-in' type='checkbox'><label for='data-5bd91471-c7cc-4254-8f9b-afe0a472a051' title='Show/Hide data repr'><svg class='icon xr-icon-database'><use xlink:href='#icon-database'></use></svg></label><div class='xr-var-attrs'><dl class='xr-attrs'></dl></div><pre class='xr-var-data'>array([ 0.548466,  0.250912, -0.638701, ..., -0.623505,  1.054939, -0.778998])</pre></li><li class='xr-var-item'><div class='xr-var-name'><span>phenotype_0</span></div><div class='xr-var-dims'>(sample)</div><div class='xr-var-dtype'>float64</div><div class='xr-var-preview xr-preview'>...</div><input id='attrs-b462a157-4da1-4b6c-acac-9e466c3c1829' class='xr-var-attrs-in' type='checkbox' disabled><label for='attrs-b462a157-4da1-4b6c-acac-9e466c3c1829' title='Show/Hide attributes'><svg class='icon xr-icon-file-text2'><use xlink:href='#icon-file-text2'></use></svg></label><input id='data-fce51fc0-981b-4202-a021-fb81e43c43d8' class='xr-var-data-in' type='checkbox'><label for='data-fce51fc0-981b-4202-a021-fb81e43c43d8' title='Show/Hide data repr'><svg class='icon xr-icon-database'><use xlink:href='#icon-database'></use></svg></label><div class='xr-var-attrs'><dl class='xr-attrs'></dl></div><pre class='xr-var-data'>array([ 0.48534 , -0.207698,  1.490908, ...,  1.78942 , -0.806594, -1.730214])</pre></li></ul></div></li><li class='xr-section-item'><input id='section-f56dc4cc-657b-4906-ae81-84ea0696a9c3' class='xr-section-summary-in' type='checkbox' disabled ><label for='section-f56dc4cc-657b-4906-ae81-84ea0696a9c3' class='xr-section-summary'  title='Expand/collapse section'>Attributes: <span>(0)</span></label><div class='xr-section-inline-details'></div><div class='xr-section-details'><dl class='xr-attrs'></dl></div></li></ul></div></div>"
      ],
      "text/plain": [
       "<xarray.Dataset>\n",
       "Dimensions:      (sample: 500, variant: 5000)\n",
       "Dimensions without coordinates: sample, variant\n",
       "Data variables:\n",
       "    data         (variant, sample) int8 ...\n",
       "    variant_id   (variant) object ...\n",
       "    contig       (variant) int32 ...\n",
       "    pos          (variant) int32 ...\n",
       "    sample_id    (sample) object ...\n",
       "    covariate_0  (sample) float64 ...\n",
       "    phenotype_0  (sample) float64 ..."
      ]
     },
     "execution_count": 2,
     "metadata": {},
     "output_type": "execute_result"
    }
   ],
   "source": [
    "ds = xr.open_dataset('data.nc')\n",
    "ds"
   ]
  },
  {
   "cell_type": "code",
   "execution_count": 3,
   "metadata": {},
   "outputs": [
    {
     "data": {
      "text/html": [
       "<div>\n",
       "<style scoped>\n",
       "    .dataframe tbody tr th:only-of-type {\n",
       "        vertical-align: middle;\n",
       "    }\n",
       "\n",
       "    .dataframe tbody tr th {\n",
       "        vertical-align: top;\n",
       "    }\n",
       "\n",
       "    .dataframe thead th {\n",
       "        text-align: right;\n",
       "    }\n",
       "</style>\n",
       "<table border=\"1\" class=\"dataframe\">\n",
       "  <thead>\n",
       "    <tr style=\"text-align: right;\">\n",
       "      <th></th>\n",
       "      <th>sid_index</th>\n",
       "      <th>SNP</th>\n",
       "      <th>Chr</th>\n",
       "      <th>GenDist</th>\n",
       "      <th>ChrPos</th>\n",
       "      <th>PValue</th>\n",
       "      <th>SnpWeight</th>\n",
       "      <th>SnpWeightSE</th>\n",
       "      <th>SnpFractVarExpl</th>\n",
       "      <th>Mixing</th>\n",
       "      <th>Nullh2</th>\n",
       "    </tr>\n",
       "  </thead>\n",
       "  <tbody>\n",
       "    <tr>\n",
       "      <th>0</th>\n",
       "      <td>4052</td>\n",
       "      <td>snp495_m0_.01m1_.04</td>\n",
       "      <td>5</td>\n",
       "      <td>4052</td>\n",
       "      <td>4052</td>\n",
       "      <td>7.108119e-24</td>\n",
       "      <td>-0.430418</td>\n",
       "      <td>0.040536</td>\n",
       "      <td>0.430004</td>\n",
       "      <td>0.0</td>\n",
       "      <td>0.0</td>\n",
       "    </tr>\n",
       "    <tr>\n",
       "      <th>1</th>\n",
       "      <td>2392</td>\n",
       "      <td>snp1422_m0_.49m1_.5</td>\n",
       "      <td>3</td>\n",
       "      <td>2392</td>\n",
       "      <td>2392</td>\n",
       "      <td>1.285284e-21</td>\n",
       "      <td>0.409757</td>\n",
       "      <td>0.040927</td>\n",
       "      <td>0.409676</td>\n",
       "      <td>0.0</td>\n",
       "      <td>0.0</td>\n",
       "    </tr>\n",
       "    <tr>\n",
       "      <th>2</th>\n",
       "      <td>2650</td>\n",
       "      <td>snp1200_m0_.37m1_.36</td>\n",
       "      <td>3</td>\n",
       "      <td>2650</td>\n",
       "      <td>2650</td>\n",
       "      <td>1.501531e-13</td>\n",
       "      <td>-0.322766</td>\n",
       "      <td>0.042478</td>\n",
       "      <td>0.322615</td>\n",
       "      <td>0.0</td>\n",
       "      <td>0.0</td>\n",
       "    </tr>\n",
       "    <tr>\n",
       "      <th>3</th>\n",
       "      <td>2003</td>\n",
       "      <td>snp433_m0_.14m1_.11</td>\n",
       "      <td>3</td>\n",
       "      <td>2003</td>\n",
       "      <td>2003</td>\n",
       "      <td>8.084090e-10</td>\n",
       "      <td>0.271265</td>\n",
       "      <td>0.043298</td>\n",
       "      <td>0.270544</td>\n",
       "      <td>0.0</td>\n",
       "      <td>0.0</td>\n",
       "    </tr>\n",
       "    <tr>\n",
       "      <th>4</th>\n",
       "      <td>180</td>\n",
       "      <td>snp2504_m0_.49m1_.15</td>\n",
       "      <td>1</td>\n",
       "      <td>180</td>\n",
       "      <td>180</td>\n",
       "      <td>5.708216e-05</td>\n",
       "      <td>0.179342</td>\n",
       "      <td>0.044177</td>\n",
       "      <td>0.179154</td>\n",
       "      <td>0.0</td>\n",
       "      <td>0.0</td>\n",
       "    </tr>\n",
       "  </tbody>\n",
       "</table>\n",
       "</div>"
      ],
      "text/plain": [
       "   sid_index                   SNP  Chr  GenDist  ChrPos        PValue  \\\n",
       "0       4052   snp495_m0_.01m1_.04    5     4052    4052  7.108119e-24   \n",
       "1       2392   snp1422_m0_.49m1_.5    3     2392    2392  1.285284e-21   \n",
       "2       2650  snp1200_m0_.37m1_.36    3     2650    2650  1.501531e-13   \n",
       "3       2003   snp433_m0_.14m1_.11    3     2003    2003  8.084090e-10   \n",
       "4        180  snp2504_m0_.49m1_.15    1      180     180  5.708216e-05   \n",
       "\n",
       "   SnpWeight  SnpWeightSE  SnpFractVarExpl  Mixing  Nullh2  \n",
       "0  -0.430418     0.040536         0.430004     0.0     0.0  \n",
       "1   0.409757     0.040927         0.409676     0.0     0.0  \n",
       "2  -0.322766     0.042478         0.322615     0.0     0.0  \n",
       "3   0.271265     0.043298         0.270544     0.0     0.0  \n",
       "4   0.179342     0.044177         0.179154     0.0     0.0  "
      ]
     },
     "execution_count": 3,
     "metadata": {},
     "output_type": "execute_result"
    }
   ],
   "source": [
    "df = pd.read_csv('results.csv')\n",
    "df.head()"
   ]
  },
  {
   "cell_type": "code",
   "execution_count": 4,
   "metadata": {},
   "outputs": [
    {
     "data": {
      "text/plain": [
       "array([[4052]])"
      ]
     },
     "execution_count": 4,
     "metadata": {},
     "output_type": "execute_result"
    }
   ],
   "source": [
    "np.argwhere(ds.variant_id.values == 'snp495_m0_.01m1_.04')"
   ]
  },
  {
   "cell_type": "code",
   "execution_count": 5,
   "metadata": {},
   "outputs": [
    {
     "data": {
      "text/html": [
       "<div>\n",
       "<style scoped>\n",
       "    .dataframe tbody tr th:only-of-type {\n",
       "        vertical-align: middle;\n",
       "    }\n",
       "\n",
       "    .dataframe tbody tr th {\n",
       "        vertical-align: top;\n",
       "    }\n",
       "\n",
       "    .dataframe thead th {\n",
       "        text-align: right;\n",
       "    }\n",
       "</style>\n",
       "<table border=\"1\" class=\"dataframe\">\n",
       "  <thead>\n",
       "    <tr style=\"text-align: right;\">\n",
       "      <th></th>\n",
       "      <th>sid_index</th>\n",
       "      <th>SNP</th>\n",
       "      <th>Chr</th>\n",
       "      <th>GenDist</th>\n",
       "      <th>ChrPos</th>\n",
       "      <th>PValue</th>\n",
       "      <th>SnpWeight</th>\n",
       "      <th>SnpWeightSE</th>\n",
       "      <th>SnpFractVarExpl</th>\n",
       "      <th>Mixing</th>\n",
       "      <th>Nullh2</th>\n",
       "    </tr>\n",
       "  </thead>\n",
       "  <tbody>\n",
       "    <tr>\n",
       "      <th>0</th>\n",
       "      <td>4052</td>\n",
       "      <td>snp495_m0_.01m1_.04</td>\n",
       "      <td>5</td>\n",
       "      <td>4052</td>\n",
       "      <td>4052</td>\n",
       "      <td>7.108119e-24</td>\n",
       "      <td>-0.430418</td>\n",
       "      <td>0.040536</td>\n",
       "      <td>0.430004</td>\n",
       "      <td>0.0</td>\n",
       "      <td>0.0</td>\n",
       "    </tr>\n",
       "  </tbody>\n",
       "</table>\n",
       "</div>"
      ],
      "text/plain": [
       "   sid_index                  SNP  Chr  GenDist  ChrPos        PValue  \\\n",
       "0       4052  snp495_m0_.01m1_.04    5     4052    4052  7.108119e-24   \n",
       "\n",
       "   SnpWeight  SnpWeightSE  SnpFractVarExpl  Mixing  Nullh2  \n",
       "0  -0.430418     0.040536         0.430004     0.0     0.0  "
      ]
     },
     "execution_count": 5,
     "metadata": {},
     "output_type": "execute_result"
    }
   ],
   "source": [
    "df.pipe(lambda df: df[df['Chr'] == 5]).pipe(lambda df: df[df['ChrPos'] == 4052])"
   ]
  },
  {
   "cell_type": "code",
   "execution_count": 6,
   "metadata": {},
   "outputs": [
    {
     "data": {
      "text/html": [
       "<div>\n",
       "<style scoped>\n",
       "    .dataframe tbody tr th:only-of-type {\n",
       "        vertical-align: middle;\n",
       "    }\n",
       "\n",
       "    .dataframe tbody tr th {\n",
       "        vertical-align: top;\n",
       "    }\n",
       "\n",
       "    .dataframe thead th {\n",
       "        text-align: right;\n",
       "    }\n",
       "</style>\n",
       "<table border=\"1\" class=\"dataframe\">\n",
       "  <thead>\n",
       "    <tr style=\"text-align: right;\">\n",
       "      <th></th>\n",
       "      <th>sid_index</th>\n",
       "      <th>SNP</th>\n",
       "      <th>Chr</th>\n",
       "      <th>GenDist</th>\n",
       "      <th>ChrPos</th>\n",
       "      <th>PValue</th>\n",
       "      <th>SnpWeight</th>\n",
       "      <th>SnpWeightSE</th>\n",
       "      <th>SnpFractVarExpl</th>\n",
       "      <th>Mixing</th>\n",
       "      <th>Nullh2</th>\n",
       "    </tr>\n",
       "  </thead>\n",
       "  <tbody>\n",
       "    <tr>\n",
       "      <th>1</th>\n",
       "      <td>2392</td>\n",
       "      <td>snp1422_m0_.49m1_.5</td>\n",
       "      <td>3</td>\n",
       "      <td>2392</td>\n",
       "      <td>2392</td>\n",
       "      <td>1.285284e-21</td>\n",
       "      <td>0.409757</td>\n",
       "      <td>0.040927</td>\n",
       "      <td>0.409676</td>\n",
       "      <td>0.0</td>\n",
       "      <td>0.0</td>\n",
       "    </tr>\n",
       "  </tbody>\n",
       "</table>\n",
       "</div>"
      ],
      "text/plain": [
       "   sid_index                  SNP  Chr  GenDist  ChrPos        PValue  \\\n",
       "1       2392  snp1422_m0_.49m1_.5    3     2392    2392  1.285284e-21   \n",
       "\n",
       "   SnpWeight  SnpWeightSE  SnpFractVarExpl  Mixing  Nullh2  \n",
       "1   0.409757     0.040927         0.409676     0.0     0.0  "
      ]
     },
     "execution_count": 6,
     "metadata": {},
     "output_type": "execute_result"
    }
   ],
   "source": [
    "df.pipe(lambda df: df[df['Chr'] == 3]).pipe(lambda df: df[df['ChrPos'] == 2392])"
   ]
  },
  {
   "cell_type": "code",
   "execution_count": 7,
   "metadata": {},
   "outputs": [
    {
     "data": {
      "text/plain": [
       "array([[2392]])"
      ]
     },
     "execution_count": 7,
     "metadata": {},
     "output_type": "execute_result"
    }
   ],
   "source": [
    "np.argwhere(ds.variant_id.values == 'snp1422_m0_.49m1_.5')"
   ]
  },
  {
   "cell_type": "code",
   "execution_count": 8,
   "metadata": {},
   "outputs": [
    {
     "data": {
      "text/html": [
       "<div>\n",
       "<style scoped>\n",
       "    .dataframe tbody tr th:only-of-type {\n",
       "        vertical-align: middle;\n",
       "    }\n",
       "\n",
       "    .dataframe tbody tr th {\n",
       "        vertical-align: top;\n",
       "    }\n",
       "\n",
       "    .dataframe thead th {\n",
       "        text-align: right;\n",
       "    }\n",
       "</style>\n",
       "<table border=\"1\" class=\"dataframe\">\n",
       "  <thead>\n",
       "    <tr style=\"text-align: right;\">\n",
       "      <th></th>\n",
       "      <th>sid_index</th>\n",
       "      <th>SNP</th>\n",
       "      <th>Chr</th>\n",
       "      <th>GenDist</th>\n",
       "      <th>ChrPos</th>\n",
       "      <th>PValue</th>\n",
       "      <th>SnpWeight</th>\n",
       "      <th>SnpWeightSE</th>\n",
       "      <th>SnpFractVarExpl</th>\n",
       "      <th>Mixing</th>\n",
       "      <th>Nullh2</th>\n",
       "    </tr>\n",
       "  </thead>\n",
       "  <tbody>\n",
       "    <tr>\n",
       "      <th>4</th>\n",
       "      <td>180</td>\n",
       "      <td>snp2504_m0_.49m1_.15</td>\n",
       "      <td>1</td>\n",
       "      <td>180</td>\n",
       "      <td>180</td>\n",
       "      <td>0.000057</td>\n",
       "      <td>0.179342</td>\n",
       "      <td>0.044177</td>\n",
       "      <td>0.179154</td>\n",
       "      <td>0.0</td>\n",
       "      <td>0.0</td>\n",
       "    </tr>\n",
       "  </tbody>\n",
       "</table>\n",
       "</div>"
      ],
      "text/plain": [
       "   sid_index                   SNP  Chr  GenDist  ChrPos    PValue  SnpWeight  \\\n",
       "4        180  snp2504_m0_.49m1_.15    1      180     180  0.000057   0.179342   \n",
       "\n",
       "   SnpWeightSE  SnpFractVarExpl  Mixing  Nullh2  \n",
       "4     0.044177         0.179154     0.0     0.0  "
      ]
     },
     "execution_count": 8,
     "metadata": {},
     "output_type": "execute_result"
    }
   ],
   "source": [
    "df.pipe(lambda df: df[df['Chr'] == 1]).pipe(lambda df: df[df['ChrPos'] == 180])"
   ]
  },
  {
   "cell_type": "code",
   "execution_count": 9,
   "metadata": {},
   "outputs": [
    {
     "data": {
      "text/plain": [
       "array([[180]])"
      ]
     },
     "execution_count": 9,
     "metadata": {},
     "output_type": "execute_result"
    }
   ],
   "source": [
    "np.argwhere(ds.variant_id.values == 'snp2504_m0_.49m1_.15')"
   ]
  },
  {
   "cell_type": "code",
   "execution_count": 10,
   "metadata": {},
   "outputs": [
    {
     "data": {
      "text/plain": [
       "((500, 5000), (500, 500), (500,), (5000, 5000))"
      ]
     },
     "execution_count": 10,
     "metadata": {},
     "output_type": "execute_result"
    }
   ],
   "source": [
    "Xf = ds.data.values.T\n",
    "\n",
    "Xf = (Xf - Xf.mean(axis=0, keepdims=True)) / (Xf.std(axis=0, keepdims=True))\n",
    "\n",
    "u, s, v = np.linalg.svd(Xf)\n",
    "Xf.shape, u.shape, s.shape, v.shape"
   ]
  },
  {
   "cell_type": "code",
   "execution_count": 11,
   "metadata": {},
   "outputs": [
    {
     "data": {
      "text/plain": [
       "(2.4859660134681223e-13, 379.24053399391164)"
      ]
     },
     "execution_count": 11,
     "metadata": {},
     "output_type": "execute_result"
    }
   ],
   "source": [
    "s.min(), s.max()"
   ]
  },
  {
   "cell_type": "code",
   "execution_count": 12,
   "metadata": {},
   "outputs": [
    {
     "data": {
      "text/plain": [
       "(3, 500)"
      ]
     },
     "execution_count": 12,
     "metadata": {},
     "output_type": "execute_result"
    }
   ],
   "source": [
    "#X = ds.data.values[[4052]]\n",
    "#X = Xf.T[[4052]]\n",
    "#X = Xf.T[[2392]]\n",
    "X = Xf.T[[180]]\n",
    "\n",
    "cov = ds.covariate_0.values[np.newaxis]\n",
    "X = np.concatenate((\n",
    "    X, \n",
    "    cov,\n",
    "    np.ones((1,X.shape[1]))\n",
    "), axis=0)\n",
    "X.shape"
   ]
  },
  {
   "cell_type": "code",
   "execution_count": 105,
   "metadata": {},
   "outputs": [],
   "source": [
    "from fastlmm.inference import lmm_cov \n",
    "lmm = lmm_cov.LMM()\n",
    "\n",
    "# where eigendecomp is done in fastlmm:\n",
    "# https://github.com/fastlmm/FaST-LMM/blob/ff183d3aa09c78cf5fdf1961e9241e8a9b9dd172/fastlmm/inference/lmm_cov.py#L84\n",
    "# https://github.com/fastlmm/FaST-LMM/blob/master/fastlmm/association/single_snp.py#L550\n",
    "Xcov = np.concatenate((\n",
    "    ds.covariate_0.values[np.newaxis],\n",
    "    np.ones((1, 500))\n",
    "), axis=0)\n",
    "lmm = lmm_cov.LMM(\n",
    "    forcefullrank=True,\n",
    "    X=Xcov.T, \n",
    "    Y=ds.phenotype_0.values.reshape(-1, 1), \n",
    "    #K=ds.data.values.T.astype('float32') @ ds.data.values.astype('float32'), \n",
    "    K=Xf @ Xf.T,\n",
    "    G=None, \n",
    "    inplace=False\n",
    ")"
   ]
  },
  {
   "cell_type": "code",
   "execution_count": 106,
   "metadata": {},
   "outputs": [
    {
     "data": {
      "text/plain": [
       "((498,), (500, 498))"
      ]
     },
     "execution_count": 106,
     "metadata": {},
     "output_type": "execute_result"
    }
   ],
   "source": [
    "s_lmm, u_lmm = lmm.getSU()\n",
    "s_lmm.shape, u_lmm.shape"
   ]
  },
  {
   "cell_type": "code",
   "execution_count": 107,
   "metadata": {},
   "outputs": [
    {
     "data": {
      "text/plain": [
       "(2241.6867958327034, 143742.05458977356)"
      ]
     },
     "execution_count": 107,
     "metadata": {},
     "output_type": "execute_result"
    }
   ],
   "source": [
    "s_lmm.min(), s_lmm.max()"
   ]
  },
  {
   "cell_type": "code",
   "execution_count": 108,
   "metadata": {},
   "outputs": [
    {
     "data": {
      "text/plain": [
       "(498, 5000)"
      ]
     },
     "execution_count": 108,
     "metadata": {},
     "output_type": "execute_result"
    }
   ],
   "source": [
    "lmm.rotate(Xf)[0].shape"
   ]
  },
  {
   "cell_type": "code",
   "execution_count": 109,
   "metadata": {},
   "outputs": [
    {
     "data": {
      "text/plain": [
       "(498, 1)"
      ]
     },
     "execution_count": 109,
     "metadata": {},
     "output_type": "execute_result"
    }
   ],
   "source": [
    "lmm.getUY()[0].shape"
   ]
  },
  {
   "cell_type": "code",
   "execution_count": 110,
   "metadata": {},
   "outputs": [
    {
     "data": {
      "text/plain": [
       "(498, 1)"
      ]
     },
     "execution_count": 110,
     "metadata": {},
     "output_type": "execute_result"
    }
   ],
   "source": [
    "lmm.rotate(Xf)[0][:, [23]].shape"
   ]
  },
  {
   "cell_type": "code",
   "execution_count": 111,
   "metadata": {},
   "outputs": [
    {
     "data": {
      "text/plain": [
       "(6.180027020118588e-26, 143823.38262398724)"
      ]
     },
     "execution_count": 111,
     "metadata": {},
     "output_type": "execute_result"
    }
   ],
   "source": [
    "(s[:,np.newaxis]**2).min(), (s[:,np.newaxis]**2).max()"
   ]
  },
  {
   "cell_type": "code",
   "execution_count": 135,
   "metadata": {},
   "outputs": [],
   "source": [
    "def run(ds, idx, lmm):\n",
    "    Xf = ds.data.values.T\n",
    "    ni, nv = Xf.shape\n",
    "    Xf = (Xf - Xf.mean(axis=0, keepdims=True)) / (Xf.std(axis=0, keepdims=True))\n",
    "    \n",
    "    s, _ = lmm.getSU()\n",
    "    Xfr = lmm.rotate(Xf)[0]\n",
    "    Yr = lmm.getUY()[0][:, 0]\n",
    "    \n",
    "    res = []\n",
    "    for i in idx:\n",
    "        Xm = Xfr[:, [i]]\n",
    "        m = sm.WLS(Yr, Xm, weights=1./np.sqrt(s), hasconst=False).fit()\n",
    "        sid = ds.variant_id.values[i]\n",
    "        res.append((i, sid, m))\n",
    "    return pd.DataFrame(res, columns=['i', 'sid', 'm'])"
   ]
  },
  {
   "cell_type": "code",
   "execution_count": 142,
   "metadata": {},
   "outputs": [
    {
     "name": "stdout",
     "output_type": "stream",
     "text": [
      "<class 'pandas.core.frame.DataFrame'>\n",
      "Int64Index: 5000 entries, 0 to 4999\n",
      "Data columns (total 7 columns):\n",
      " #   Column     Non-Null Count  Dtype  \n",
      "---  ------     --------------  -----  \n",
      " 0   SNP        5000 non-null   object \n",
      " 1   SnpWeight  5000 non-null   float64\n",
      " 2   PValue     5000 non-null   float64\n",
      " 3   i          5000 non-null   int64  \n",
      " 4   m          5000 non-null   object \n",
      " 5   beta       5000 non-null   float64\n",
      " 6   p          5000 non-null   float64\n",
      "dtypes: float64(4), int64(1), object(2)\n",
      "memory usage: 312.5+ KB\n"
     ]
    }
   ],
   "source": [
    "dfm = run(ds, np.arange(5000), lmm)\n",
    "dfc = pd.merge(df[['SNP', 'SnpWeight', 'PValue']], dfm.rename(columns={'sid': 'SNP'}), on='SNP', how='inner')\n",
    "dfc['beta'] = dfc['m'].apply(lambda x: x.params[0])\n",
    "dfc['p'] = dfc['m'].apply(lambda x: x.pvalues[0])\n",
    "dfc.info()"
   ]
  },
  {
   "cell_type": "code",
   "execution_count": 143,
   "metadata": {},
   "outputs": [
    {
     "data": {
      "text/plain": [
       "count    5000.000000\n",
       "mean       -0.001772\n",
       "std         0.021996\n",
       "min        -0.074882\n",
       "25%        -0.017357\n",
       "50%        -0.001473\n",
       "75%         0.013566\n",
       "max         0.082813\n",
       "dtype: float64"
      ]
     },
     "execution_count": 143,
     "metadata": {},
     "output_type": "execute_result"
    }
   ],
   "source": [
    "(dfc['beta'] - dfc['SnpWeight']).describe()"
   ]
  },
  {
   "cell_type": "code",
   "execution_count": 144,
   "metadata": {},
   "outputs": [
    {
     "data": {
      "text/plain": [
       "<matplotlib.axes._subplots.AxesSubplot at 0x7ff4778831d0>"
      ]
     },
     "execution_count": 144,
     "metadata": {},
     "output_type": "execute_result"
    },
    {
     "data": {
      "image/png": "[encoded data removed]",
      "text/plain": [
       "<Figure size 432x288 with 1 Axes>"
      ]
     },
     "metadata": {
      "needs_background": "light"
     },
     "output_type": "display_data"
    }
   ],
   "source": [
    "dfc.plot(kind='scatter', x='beta', y='SnpWeight')"
   ]
  },
  {
   "cell_type": "code",
   "execution_count": 145,
   "metadata": {},
   "outputs": [
    {
     "data": {
      "text/plain": [
       "<matplotlib.axes._subplots.AxesSubplot at 0x7ff4830ca7d0>"
      ]
     },
     "execution_count": 145,
     "metadata": {},
     "output_type": "execute_result"
    },
    {
     "data": {
      "image/png": "[encoded data removed]",
      "text/plain": [
       "<Figure size 432x288 with 1 Axes>"
      ]
     },
     "metadata": {
      "needs_background": "light"
     },
     "output_type": "display_data"
    }
   ],
   "source": [
    "(dfc['beta'] - dfc['SnpWeight']).hist(bins=128)"
   ]
  },
  {
   "cell_type": "code",
   "execution_count": 146,
   "metadata": {},
   "outputs": [
    {
     "data": {
      "text/plain": [
       "count    5000.000000\n",
       "mean       -0.230668\n",
       "std         0.698193\n",
       "min        -4.126438\n",
       "25%        -0.622272\n",
       "50%        -0.152654\n",
       "75%         0.169319\n",
       "max         3.156768\n",
       "dtype: float64"
      ]
     },
     "execution_count": 146,
     "metadata": {},
     "output_type": "execute_result"
    }
   ],
   "source": [
    "dfc\\\n",
    "    .assign(p1=lambda df: -df['p'].apply(np.log))\\\n",
    "    .assign(p2=lambda df: -df['PValue'].apply(np.log))\\\n",
    "    .pipe(lambda df: df['p1'] - df['p2'])\\\n",
    "    .describe()"
   ]
  },
  {
   "cell_type": "code",
   "execution_count": 147,
   "metadata": {},
   "outputs": [
    {
     "data": {
      "text/plain": [
       "<matplotlib.axes._subplots.AxesSubplot at 0x7ff489bc93d0>"
      ]
     },
     "execution_count": 147,
     "metadata": {},
     "output_type": "execute_result"
    },
    {
     "data": {
      "image/png": "[encoded data removed]",
      "text/plain": [
       "<Figure size 432x288 with 1 Axes>"
      ]
     },
     "metadata": {
      "needs_background": "light"
     },
     "output_type": "display_data"
    }
   ],
   "source": [
    "dfc\\\n",
    "    .assign(p1=lambda df: -df['p'].apply(np.log))\\\n",
    "    .assign(p2=lambda df: -df['PValue'].apply(np.log))\\\n",
    "    .plot(kind='scatter', x='p1', y='p2')"
   ]
  },
  {
   "cell_type": "code",
   "execution_count": 148,
   "metadata": {},
   "outputs": [
    {
     "data": {
      "text/plain": [
       "<matplotlib.axes._subplots.AxesSubplot at 0x7ff4adeef910>"
      ]
     },
     "execution_count": 148,
     "metadata": {},
     "output_type": "execute_result"
    },
    {
     "data": {
      "image/png": "[encoded data removed]",
      "text/plain": [
       "<Figure size 432x288 with 1 Axes>"
      ]
     },
     "metadata": {
      "needs_background": "light"
     },
     "output_type": "display_data"
    }
   ],
   "source": [
    "dfc\\\n",
    "    .assign(p1=lambda df: -df['p'].apply(np.log))\\\n",
    "    .assign(p2=lambda df: -df['PValue'].apply(np.log))\\\n",
    "    .pipe(lambda df: df['p1'] - df['p2'])\\\n",
    "    .plot(kind='hist', bins=128)"
   ]
  },
  {
   "cell_type": "markdown",
   "metadata": {},
   "source": [
    "------"
   ]
  },
  {
   "cell_type": "code",
   "execution_count": 149,
   "metadata": {},
   "outputs": [],
   "source": [
    "def run(ds, idx):\n",
    "    Xf = ds.data.values.T\n",
    "    ni, nv = Xf.shape\n",
    "    Xf = (Xf - Xf.mean(axis=0, keepdims=True)) / (Xf.std(axis=0, keepdims=True))\n",
    "\n",
    "    u, s, v = np.linalg.svd(Xf)\n",
    "    \n",
    "    cov = ds.covariate_0.values[np.newaxis]\n",
    "    \n",
    "    res = []\n",
    "    for i in idx:\n",
    "        X = Xf.T[i] \n",
    "        X = np.concatenate((\n",
    "            X[np.newaxis], \n",
    "            cov,\n",
    "            np.ones((1,ni))\n",
    "        ), axis=0)\n",
    "\n",
    "        Y = ds.phenotype_0.values\n",
    "\n",
    "        Xp = u.T @ X.T\n",
    "        Yp = u.T @ Y\n",
    "        \n",
    "        m = sm.WLS(Yp, Xp, weights=1./(s), hasconst=True).fit()\n",
    "        \n",
    "        sid = ds.variant_id.values[i]\n",
    "        res.append((i, sid, m))\n",
    "    return pd.DataFrame(res, columns=['i', 'sid', 'm'])"
   ]
  },
  {
   "cell_type": "code",
   "execution_count": 151,
   "metadata": {},
   "outputs": [
    {
     "name": "stdout",
     "output_type": "stream",
     "text": [
      "<class 'pandas.core.frame.DataFrame'>\n",
      "Int64Index: 5000 entries, 0 to 4999\n",
      "Data columns (total 7 columns):\n",
      " #   Column     Non-Null Count  Dtype  \n",
      "---  ------     --------------  -----  \n",
      " 0   SNP        5000 non-null   object \n",
      " 1   SnpWeight  5000 non-null   float64\n",
      " 2   PValue     5000 non-null   float64\n",
      " 3   i          5000 non-null   int64  \n",
      " 4   m          5000 non-null   object \n",
      " 5   beta       5000 non-null   float64\n",
      " 6   p          5000 non-null   float64\n",
      "dtypes: float64(4), int64(1), object(2)\n",
      "memory usage: 312.5+ KB\n"
     ]
    }
   ],
   "source": [
    "dfm = run(ds, np.arange(5000))\n",
    "dfc = pd.merge(df[['SNP', 'SnpWeight', 'PValue']], dfm.rename(columns={'sid': 'SNP'}), on='SNP', how='inner')\n",
    "dfc['beta'] = dfc['m'].apply(lambda x: x.params[0])\n",
    "dfc['p'] = dfc['m'].apply(lambda x: x.pvalues[0])\n",
    "dfc.info()"
   ]
  },
  {
   "cell_type": "code",
   "execution_count": 152,
   "metadata": {},
   "outputs": [
    {
     "data": {
      "text/plain": [
       "count    5000.000000\n",
       "mean       -0.001772\n",
       "std         0.021994\n",
       "min        -0.074857\n",
       "25%        -0.017352\n",
       "50%        -0.001479\n",
       "75%         0.013563\n",
       "max         0.082815\n",
       "dtype: float64"
      ]
     },
     "execution_count": 152,
     "metadata": {},
     "output_type": "execute_result"
    }
   ],
   "source": [
    "(dfc['beta'] - dfc['SnpWeight']).describe()"
   ]
  },
  {
   "cell_type": "code",
   "execution_count": 153,
   "metadata": {},
   "outputs": [
    {
     "data": {
      "text/plain": [
       "<matplotlib.axes._subplots.AxesSubplot at 0x7ff4899fbad0>"
      ]
     },
     "execution_count": 153,
     "metadata": {},
     "output_type": "execute_result"
    },
    {
     "data": {
      "image/png": "[encoded data removed]",
      "text/plain": [
       "<Figure size 432x288 with 1 Axes>"
      ]
     },
     "metadata": {
      "needs_background": "light"
     },
     "output_type": "display_data"
    }
   ],
   "source": [
    "dfc.plot(kind='scatter', x='beta', y='SnpWeight')"
   ]
  },
  {
   "cell_type": "code",
   "execution_count": 154,
   "metadata": {},
   "outputs": [
    {
     "data": {
      "text/plain": [
       "<matplotlib.axes._subplots.AxesSubplot at 0x7ff4ac35d550>"
      ]
     },
     "execution_count": 154,
     "metadata": {},
     "output_type": "execute_result"
    },
    {
     "data": {
      "image/png": "[encoded data removed]",
      "text/plain": [
       "<Figure size 432x288 with 1 Axes>"
      ]
     },
     "metadata": {
      "needs_background": "light"
     },
     "output_type": "display_data"
    }
   ],
   "source": [
    "(dfc['beta'] - dfc['SnpWeight']).hist(bins=128)"
   ]
  },
  {
   "cell_type": "code",
   "execution_count": 155,
   "metadata": {},
   "outputs": [
    {
     "data": {
      "text/plain": [
       "count    5000.000000\n",
       "mean       -0.230677\n",
       "std         0.698125\n",
       "min        -4.125827\n",
       "25%        -0.622239\n",
       "50%        -0.152603\n",
       "75%         0.169677\n",
       "max         3.155749\n",
       "dtype: float64"
      ]
     },
     "execution_count": 155,
     "metadata": {},
     "output_type": "execute_result"
    }
   ],
   "source": [
    "dfc\\\n",
    "    .assign(p1=lambda df: -df['p'].apply(np.log))\\\n",
    "    .assign(p2=lambda df: -df['PValue'].apply(np.log))\\\n",
    "    .pipe(lambda df: df['p1'] - df['p2'])\\\n",
    "    .describe()"
   ]
  },
  {
   "cell_type": "code",
   "execution_count": 156,
   "metadata": {},
   "outputs": [
    {
     "data": {
      "text/plain": [
       "<matplotlib.axes._subplots.AxesSubplot at 0x7ff48afadbd0>"
      ]
     },
     "execution_count": 156,
     "metadata": {},
     "output_type": "execute_result"
    },
    {
     "data": {
      "image/png": "[encoded data removed]",
      "text/plain": [
       "<Figure size 432x288 with 1 Axes>"
      ]
     },
     "metadata": {
      "needs_background": "light"
     },
     "output_type": "display_data"
    }
   ],
   "source": [
    "dfc\\\n",
    "    .assign(p1=lambda df: -df['p'].apply(np.log))\\\n",
    "    .assign(p2=lambda df: -df['PValue'].apply(np.log))\\\n",
    "    .plot(kind='scatter', x='p1', y='p2')"
   ]
  },
  {
   "cell_type": "code",
   "execution_count": 157,
   "metadata": {},
   "outputs": [
    {
     "data": {
      "text/plain": [
       "<matplotlib.axes._subplots.AxesSubplot at 0x7ff4ad9695d0>"
      ]
     },
     "execution_count": 157,
     "metadata": {},
     "output_type": "execute_result"
    },
    {
     "data": {
      "image/png": "[encoded data removed]",
      "text/plain": [
       "<Figure size 432x288 with 1 Axes>"
      ]
     },
     "metadata": {
      "needs_background": "light"
     },
     "output_type": "display_data"
    }
   ],
   "source": [
    "dfc\\\n",
    "    .assign(p1=lambda df: -df['p'].apply(np.log))\\\n",
    "    .assign(p2=lambda df: -df['PValue'].apply(np.log))\\\n",
    "    .pipe(lambda df: df['p1'] - df['p2'])\\\n",
    "    .plot(kind='hist', bins=128)"
   ]
  }
 ],
 "metadata": {
  "kernelspec": {
   "display_name": "Python 3",
   "language": "python",
   "name": "python3"
  },
  "language_info": {
   "codemirror_mode": {
    "name": "ipython",
    "version": 3
   },
   "file_extension": ".py",
   "mimetype": "text/x-python",
   "name": "python",
   "nbconvert_exporter": "python",
   "pygments_lexer": "ipython3",
   "version": "3.7.7"
  }
 },
 "nbformat": 4,
 "nbformat_minor": 4
}
